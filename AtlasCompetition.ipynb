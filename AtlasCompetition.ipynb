{
 "cells": [
  {
   "cell_type": "markdown",
   "id": "478824a7-7dc1-4202-84b8-ff51b84e1425",
   "metadata": {},
   "source": [
    "# ATLAS Competition"
   ]
  },
  {
   "cell_type": "markdown",
   "id": "24adb3eb-4e9b-4400-ba24-266e92de1199",
   "metadata": {
    "jp-MarkdownHeadingCollapsed": true
   },
   "source": [
    "### Łukasz Schab"
   ]
  },
  {
   "cell_type": "markdown",
   "id": "32c2d7c9-8b01-4344-a582-30ea0c460d14",
   "metadata": {},
   "source": [
    "### W tym dokumencie dokumencie dokonam analizy danych data_atlas.csv, a następnię zbuduję modele predykcyjne w celu przewidzenia zmiennej credit_risk"
   ]
  },
  {
   "cell_type": "markdown",
   "id": "3fa94948-8884-4656-a10a-c7d1f7e13c2a",
   "metadata": {},
   "source": [
    "#### Importuję potrzebne biblioteki"
   ]
  },
  {
   "cell_type": "code",
   "execution_count": 1,
   "id": "d6244051-72c7-48d0-ae89-70194e0fe94f",
   "metadata": {},
   "outputs": [],
   "source": [
    "import pandas as pd\n",
    "import matplotlib.pyplot as plt\n",
    "from sklearn.model_selection import train_test_split\n",
    "from sklearn.tree import DecisionTreeClassifier\n",
    "from sklearn.ensemble import RandomForestClassifier\n",
    "from sklearn.svm import SVC\n",
    "from sklearn.naive_bayes import GaussianNB\n",
    "from xgboost import XGBClassifier\n",
    "from sklearn.metrics import accuracy_score\n",
    "from sklearn.metrics import recall_score\n",
    "from imblearn.metrics import specificity_score\n",
    "from sklearn.metrics import confusion_matrix\n",
    "from sklearn.metrics import ConfusionMatrixDisplay"
   ]
  },
  {
   "cell_type": "markdown",
   "id": "ef0af096-c382-4320-b5a4-ccdf31e5cb0d",
   "metadata": {},
   "source": [
    "#### Wczytuję dane"
   ]
  },
  {
   "cell_type": "code",
   "execution_count": 2,
   "id": "91982dbb-57ce-49fe-bd78-03ee1952696a",
   "metadata": {},
   "outputs": [],
   "source": [
    "data = pd.read_csv(\"data_atlas.csv\")"
   ]
  },
  {
   "cell_type": "markdown",
   "id": "5ba1a758-5ea6-4521-a722-c22dd31646a0",
   "metadata": {},
   "source": [
    "#### Wyświetlam losową próbkę danych"
   ]
  },
  {
   "cell_type": "code",
   "execution_count": 3,
   "id": "a348d4e0-2dec-413c-b3eb-6b725f2cc687",
   "metadata": {},
   "outputs": [
    {
     "data": {
      "text/html": [
       "<div>\n",
       "<style scoped>\n",
       "    .dataframe tbody tr th:only-of-type {\n",
       "        vertical-align: middle;\n",
       "    }\n",
       "\n",
       "    .dataframe tbody tr th {\n",
       "        vertical-align: top;\n",
       "    }\n",
       "\n",
       "    .dataframe thead th {\n",
       "        text-align: right;\n",
       "    }\n",
       "</style>\n",
       "<table border=\"1\" class=\"dataframe\">\n",
       "  <thead>\n",
       "    <tr style=\"text-align: right;\">\n",
       "      <th></th>\n",
       "      <th>Unnamed: 0</th>\n",
       "      <th>age</th>\n",
       "      <th>income</th>\n",
       "      <th>children</th>\n",
       "      <th>credit_history</th>\n",
       "      <th>overdue_payments</th>\n",
       "      <th>active_loans</th>\n",
       "      <th>years_in_job</th>\n",
       "      <th>employment_type</th>\n",
       "      <th>owns_property</th>\n",
       "      <th>assets_value</th>\n",
       "      <th>other_loans</th>\n",
       "      <th>education</th>\n",
       "      <th>city</th>\n",
       "      <th>marital_status</th>\n",
       "      <th>support_indicator</th>\n",
       "      <th>credit_risk</th>\n",
       "    </tr>\n",
       "  </thead>\n",
       "  <tbody>\n",
       "    <tr>\n",
       "      <th>1766</th>\n",
       "      <td>1766</td>\n",
       "      <td>61</td>\n",
       "      <td>20053 złoty</td>\n",
       "      <td>1 dzieci</td>\n",
       "      <td>dobra historia</td>\n",
       "      <td>brak opóźnień</td>\n",
       "      <td>1</td>\n",
       "      <td>8</td>\n",
       "      <td>samozatrudnienie</td>\n",
       "      <td>nie</td>\n",
       "      <td>48882 złoty</td>\n",
       "      <td>1</td>\n",
       "      <td>średnie</td>\n",
       "      <td>duże</td>\n",
       "      <td>żonaty/zamężna</td>\n",
       "      <td>0.815219</td>\n",
       "      <td>0</td>\n",
       "    </tr>\n",
       "    <tr>\n",
       "      <th>3239</th>\n",
       "      <td>3239</td>\n",
       "      <td>49</td>\n",
       "      <td>NaN</td>\n",
       "      <td>3 dzieci</td>\n",
       "      <td>dobra historia</td>\n",
       "      <td>NaN</td>\n",
       "      <td>1</td>\n",
       "      <td>14</td>\n",
       "      <td>samozatrudnienie</td>\n",
       "      <td>nie</td>\n",
       "      <td>84919 złoty</td>\n",
       "      <td>1</td>\n",
       "      <td>wyższe</td>\n",
       "      <td>średnie</td>\n",
       "      <td>kawaler/panna</td>\n",
       "      <td>0.878825</td>\n",
       "      <td>0</td>\n",
       "    </tr>\n",
       "    <tr>\n",
       "      <th>455</th>\n",
       "      <td>455</td>\n",
       "      <td>32</td>\n",
       "      <td>NaN</td>\n",
       "      <td>brak</td>\n",
       "      <td>dobra historia</td>\n",
       "      <td>opóźnienia</td>\n",
       "      <td>3</td>\n",
       "      <td>3</td>\n",
       "      <td>stała</td>\n",
       "      <td>tak</td>\n",
       "      <td>NaN</td>\n",
       "      <td>1</td>\n",
       "      <td>wyższe</td>\n",
       "      <td>małe</td>\n",
       "      <td>żonaty/zamężna</td>\n",
       "      <td>0.748274</td>\n",
       "      <td>0</td>\n",
       "    </tr>\n",
       "    <tr>\n",
       "      <th>7034</th>\n",
       "      <td>7034</td>\n",
       "      <td>56</td>\n",
       "      <td>22374 złoty</td>\n",
       "      <td>1 dzieci</td>\n",
       "      <td>dobra historia</td>\n",
       "      <td>brak opóźnień</td>\n",
       "      <td>2</td>\n",
       "      <td>12</td>\n",
       "      <td>stała</td>\n",
       "      <td>tak</td>\n",
       "      <td>57322 złoty</td>\n",
       "      <td>1</td>\n",
       "      <td>średnie</td>\n",
       "      <td>małe</td>\n",
       "      <td>kawaler/panna</td>\n",
       "      <td>0.875753</td>\n",
       "      <td>0</td>\n",
       "    </tr>\n",
       "    <tr>\n",
       "      <th>737</th>\n",
       "      <td>737</td>\n",
       "      <td>49</td>\n",
       "      <td>NaN</td>\n",
       "      <td>3 dzieci</td>\n",
       "      <td>brak historii</td>\n",
       "      <td>opóźnienia</td>\n",
       "      <td>2</td>\n",
       "      <td>6</td>\n",
       "      <td>stała</td>\n",
       "      <td>nie</td>\n",
       "      <td>165585 złoty</td>\n",
       "      <td>0</td>\n",
       "      <td>średnie</td>\n",
       "      <td>średnie</td>\n",
       "      <td>rozwiedziony/rozwiedziona</td>\n",
       "      <td>0.931317</td>\n",
       "      <td>0</td>\n",
       "    </tr>\n",
       "  </tbody>\n",
       "</table>\n",
       "</div>"
      ],
      "text/plain": [
       "      Unnamed: 0  age       income  children  credit_history overdue_payments  \\\n",
       "1766        1766   61  20053 złoty  1 dzieci  dobra historia    brak opóźnień   \n",
       "3239        3239   49          NaN  3 dzieci  dobra historia              NaN   \n",
       "455          455   32          NaN      brak  dobra historia       opóźnienia   \n",
       "7034        7034   56  22374 złoty  1 dzieci  dobra historia    brak opóźnień   \n",
       "737          737   49          NaN  3 dzieci   brak historii       opóźnienia   \n",
       "\n",
       "      active_loans  years_in_job   employment_type owns_property  \\\n",
       "1766             1             8  samozatrudnienie           nie   \n",
       "3239             1            14  samozatrudnienie           nie   \n",
       "455              3             3             stała           tak   \n",
       "7034             2            12             stała           tak   \n",
       "737              2             6             stała           nie   \n",
       "\n",
       "      assets_value  other_loans education     city             marital_status  \\\n",
       "1766   48882 złoty            1   średnie     duże             żonaty/zamężna   \n",
       "3239   84919 złoty            1    wyższe  średnie              kawaler/panna   \n",
       "455            NaN            1    wyższe     małe             żonaty/zamężna   \n",
       "7034   57322 złoty            1   średnie     małe              kawaler/panna   \n",
       "737   165585 złoty            0   średnie  średnie  rozwiedziony/rozwiedziona   \n",
       "\n",
       "      support_indicator   credit_risk  \n",
       "1766            0.815219            0  \n",
       "3239            0.878825            0  \n",
       "455             0.748274            0  \n",
       "7034            0.875753            0  \n",
       "737             0.931317            0  "
      ]
     },
     "execution_count": 3,
     "metadata": {},
     "output_type": "execute_result"
    }
   ],
   "source": [
    "data.sample(5)"
   ]
  },
  {
   "cell_type": "markdown",
   "id": "24633986-428a-4af5-9984-a586fdee9ac6",
   "metadata": {},
   "source": [
    "#### Sprawdzam typy danych"
   ]
  },
  {
   "cell_type": "code",
   "execution_count": 4,
   "id": "a7dcebc9-1469-457b-bf28-1943cd496897",
   "metadata": {},
   "outputs": [
    {
     "name": "stdout",
     "output_type": "stream",
     "text": [
      "<class 'pandas.core.frame.DataFrame'>\n",
      "RangeIndex: 10000 entries, 0 to 9999\n",
      "Data columns (total 17 columns):\n",
      " #   Column              Non-Null Count  Dtype  \n",
      "---  ------              --------------  -----  \n",
      " 0   Unnamed: 0          10000 non-null  int64  \n",
      " 1   age                 10000 non-null  int64  \n",
      " 2   income              8000 non-null   object \n",
      " 3   children            10000 non-null  object \n",
      " 4   credit_history      8000 non-null   object \n",
      " 5   overdue_payments    8000 non-null   object \n",
      " 6   active_loans        10000 non-null  int64  \n",
      " 7   years_in_job        10000 non-null  int64  \n",
      " 8   employment_type     10000 non-null  object \n",
      " 9   owns_property       8000 non-null   object \n",
      " 10  assets_value        8000 non-null   object \n",
      " 11  other_loans         10000 non-null  int64  \n",
      " 12  education           10000 non-null  object \n",
      " 13  city                10000 non-null  object \n",
      " 14  marital_status      10000 non-null  object \n",
      " 15  support_indicator   10000 non-null  float64\n",
      " 16  credit_risk         10000 non-null  int64  \n",
      "dtypes: float64(1), int64(6), object(10)\n",
      "memory usage: 1.3+ MB\n"
     ]
    }
   ],
   "source": [
    "data.info()"
   ]
  },
  {
   "cell_type": "markdown",
   "id": "78618e6e-99ac-476d-a0de-1fcea1b7a0ff",
   "metadata": {},
   "source": [
    "#### Usuwam braki danych"
   ]
  },
  {
   "cell_type": "code",
   "execution_count": 5,
   "id": "e3828f78-8f0e-4e5a-87b4-e288935563f3",
   "metadata": {},
   "outputs": [],
   "source": [
    "data = data.dropna()"
   ]
  },
  {
   "cell_type": "markdown",
   "id": "70bb7a20-3834-43d1-b096-1fc4da2fa766",
   "metadata": {},
   "source": [
    "#### Konwertuję kolumnę income oraz assets_value na typ int, oraz usuwam kolumnę \"Unnamed:0\""
   ]
  },
  {
   "cell_type": "code",
   "execution_count": 6,
   "id": "cf2a6f19-5c96-4c4e-8bb6-c5b217bc235b",
   "metadata": {},
   "outputs": [],
   "source": [
    "data[\"income\"] = data[\"income\"].str.replace(\" złoty\",\"\").astype(int)\n",
    "data[\"assets_value\"] = data[\"assets_value\"].str.replace(\" złoty\",\"\").astype(int)\n",
    "data = data.drop(\"Unnamed: 0\",axis=1)"
   ]
  },
  {
   "cell_type": "code",
   "execution_count": 7,
   "id": "980ca56d-d74a-4ba9-a8fe-dfb85d974ff3",
   "metadata": {},
   "outputs": [
    {
     "data": {
      "text/html": [
       "<div>\n",
       "<style scoped>\n",
       "    .dataframe tbody tr th:only-of-type {\n",
       "        vertical-align: middle;\n",
       "    }\n",
       "\n",
       "    .dataframe tbody tr th {\n",
       "        vertical-align: top;\n",
       "    }\n",
       "\n",
       "    .dataframe thead th {\n",
       "        text-align: right;\n",
       "    }\n",
       "</style>\n",
       "<table border=\"1\" class=\"dataframe\">\n",
       "  <thead>\n",
       "    <tr style=\"text-align: right;\">\n",
       "      <th></th>\n",
       "      <th>age</th>\n",
       "      <th>income</th>\n",
       "      <th>active_loans</th>\n",
       "      <th>years_in_job</th>\n",
       "      <th>assets_value</th>\n",
       "      <th>other_loans</th>\n",
       "      <th>support_indicator</th>\n",
       "      <th>credit_risk</th>\n",
       "    </tr>\n",
       "  </thead>\n",
       "  <tbody>\n",
       "    <tr>\n",
       "      <th>count</th>\n",
       "      <td>3284.000000</td>\n",
       "      <td>3284.000000</td>\n",
       "      <td>3284.000000</td>\n",
       "      <td>3284.00000</td>\n",
       "      <td>3284.000000</td>\n",
       "      <td>3284.000000</td>\n",
       "      <td>3284.000000</td>\n",
       "      <td>3284.000000</td>\n",
       "    </tr>\n",
       "    <tr>\n",
       "      <th>mean</th>\n",
       "      <td>39.628197</td>\n",
       "      <td>23561.209196</td>\n",
       "      <td>1.479903</td>\n",
       "      <td>9.50335</td>\n",
       "      <td>79575.790195</td>\n",
       "      <td>0.409866</td>\n",
       "      <td>0.502103</td>\n",
       "      <td>0.028928</td>\n",
       "    </tr>\n",
       "    <tr>\n",
       "      <th>std</th>\n",
       "      <td>9.892308</td>\n",
       "      <td>9788.237301</td>\n",
       "      <td>1.228367</td>\n",
       "      <td>4.87145</td>\n",
       "      <td>69505.029222</td>\n",
       "      <td>0.491884</td>\n",
       "      <td>0.285643</td>\n",
       "      <td>0.167630</td>\n",
       "    </tr>\n",
       "    <tr>\n",
       "      <th>min</th>\n",
       "      <td>18.000000</td>\n",
       "      <td>4154.000000</td>\n",
       "      <td>0.000000</td>\n",
       "      <td>0.00000</td>\n",
       "      <td>10000.000000</td>\n",
       "      <td>0.000000</td>\n",
       "      <td>0.000117</td>\n",
       "      <td>0.000000</td>\n",
       "    </tr>\n",
       "    <tr>\n",
       "      <th>25%</th>\n",
       "      <td>33.000000</td>\n",
       "      <td>15781.000000</td>\n",
       "      <td>1.000000</td>\n",
       "      <td>6.00000</td>\n",
       "      <td>34018.250000</td>\n",
       "      <td>0.000000</td>\n",
       "      <td>0.267069</td>\n",
       "      <td>0.000000</td>\n",
       "    </tr>\n",
       "    <tr>\n",
       "      <th>50%</th>\n",
       "      <td>40.000000</td>\n",
       "      <td>21845.000000</td>\n",
       "      <td>1.000000</td>\n",
       "      <td>9.00000</td>\n",
       "      <td>58740.000000</td>\n",
       "      <td>0.000000</td>\n",
       "      <td>0.504335</td>\n",
       "      <td>0.000000</td>\n",
       "    </tr>\n",
       "    <tr>\n",
       "      <th>75%</th>\n",
       "      <td>46.000000</td>\n",
       "      <td>31066.500000</td>\n",
       "      <td>2.000000</td>\n",
       "      <td>13.00000</td>\n",
       "      <td>102045.750000</td>\n",
       "      <td>1.000000</td>\n",
       "      <td>0.734961</td>\n",
       "      <td>0.000000</td>\n",
       "    </tr>\n",
       "    <tr>\n",
       "      <th>max</th>\n",
       "      <td>70.000000</td>\n",
       "      <td>40000.000000</td>\n",
       "      <td>8.000000</td>\n",
       "      <td>29.00000</td>\n",
       "      <td>500000.000000</td>\n",
       "      <td>1.000000</td>\n",
       "      <td>0.999983</td>\n",
       "      <td>1.000000</td>\n",
       "    </tr>\n",
       "  </tbody>\n",
       "</table>\n",
       "</div>"
      ],
      "text/plain": [
       "               age        income  active_loans  years_in_job   assets_value  \\\n",
       "count  3284.000000   3284.000000   3284.000000    3284.00000    3284.000000   \n",
       "mean     39.628197  23561.209196      1.479903       9.50335   79575.790195   \n",
       "std       9.892308   9788.237301      1.228367       4.87145   69505.029222   \n",
       "min      18.000000   4154.000000      0.000000       0.00000   10000.000000   \n",
       "25%      33.000000  15781.000000      1.000000       6.00000   34018.250000   \n",
       "50%      40.000000  21845.000000      1.000000       9.00000   58740.000000   \n",
       "75%      46.000000  31066.500000      2.000000      13.00000  102045.750000   \n",
       "max      70.000000  40000.000000      8.000000      29.00000  500000.000000   \n",
       "\n",
       "       other_loans  support_indicator   credit_risk  \n",
       "count  3284.000000         3284.000000  3284.000000  \n",
       "mean      0.409866            0.502103     0.028928  \n",
       "std       0.491884            0.285643     0.167630  \n",
       "min       0.000000            0.000117     0.000000  \n",
       "25%       0.000000            0.267069     0.000000  \n",
       "50%       0.000000            0.504335     0.000000  \n",
       "75%       1.000000            0.734961     0.000000  \n",
       "max       1.000000            0.999983     1.000000  "
      ]
     },
     "execution_count": 7,
     "metadata": {},
     "output_type": "execute_result"
    }
   ],
   "source": [
    "#Sprawdzamy standardowe parametry statystyczne danych\n",
    "data.describe()"
   ]
  },
  {
   "cell_type": "markdown",
   "id": "7be365ba-b749-4b6a-b4d8-1cb0e606df70",
   "metadata": {},
   "source": [
    "#### Dokonuję one-hot-encodingu na wartościach typu object"
   ]
  },
  {
   "cell_type": "code",
   "execution_count": 8,
   "id": "d21e0b13-d298-44e8-8375-43a2c7d90ff8",
   "metadata": {},
   "outputs": [],
   "source": [
    "one_hot_data = pd.get_dummies(data,columns=[\"children\",\"credit_history\",\"overdue_payments\",\"employment_type\",\"owns_property\",\"education\",\"city\",\"marital_status\"]);"
   ]
  },
  {
   "cell_type": "markdown",
   "id": "6658541c-bd82-4a1c-9453-8b6321415217",
   "metadata": {},
   "source": [
    "#### Dzielę dane na zmienne niezależne i zmienną zależną"
   ]
  },
  {
   "cell_type": "code",
   "execution_count": 9,
   "id": "173ef21f-cc75-41dc-a7d7-6a747c47220b",
   "metadata": {},
   "outputs": [],
   "source": [
    "X = one_hot_data.drop(\"credit_risk\",axis=1)\n",
    "y = one_hot_data[\"credit_risk\"]"
   ]
  },
  {
   "cell_type": "markdown",
   "id": "5da753ad-f4de-45f8-8eef-5a4636b66fa6",
   "metadata": {},
   "source": [
    "#### Dzielę dane na zbiór treningowy oraz zbiór testowy"
   ]
  },
  {
   "cell_type": "code",
   "execution_count": 10,
   "id": "b0f8eab1-9287-46a2-9cb4-7bf5d654f241",
   "metadata": {},
   "outputs": [],
   "source": [
    "X_train, X_test, y_train, y_test = train_test_split(X , y,test_size = 0.2, random_state=42)"
   ]
  },
  {
   "cell_type": "markdown",
   "id": "1ad906ea-e778-4fd2-81b1-52db8ef2caed",
   "metadata": {},
   "source": [
    "#### Tworzę model drzewa decyzyjnego"
   ]
  },
  {
   "cell_type": "code",
   "execution_count": 11,
   "id": "7c01fc1f-deb1-4d6e-93b1-f540b0621db2",
   "metadata": {},
   "outputs": [],
   "source": [
    "tree = DecisionTreeClassifier()\n",
    "tree.fit(X_train,y_train)\n",
    "y_pred_tree = tree.predict(X_test)"
   ]
  },
  {
   "cell_type": "markdown",
   "id": "ac10ac2d-4b58-4791-ad7f-c1b76366614c",
   "metadata": {},
   "source": [
    "#### Tworzę model lasu losowego"
   ]
  },
  {
   "cell_type": "code",
   "execution_count": 12,
   "id": "a418c33a-0646-45e2-ade4-224d834dcde1",
   "metadata": {},
   "outputs": [],
   "source": [
    "forest = RandomForestClassifier()\n",
    "forest.fit(X_train,y_train)\n",
    "y_pred_forest = forest.predict(X_test)"
   ]
  },
  {
   "cell_type": "markdown",
   "id": "babccf7a-34f1-4a9d-8202-4d39d3a2a910",
   "metadata": {},
   "source": [
    "#### Tworzę model maszyny wektorów nośnych"
   ]
  },
  {
   "cell_type": "code",
   "execution_count": 13,
   "id": "5d603013-81f7-4d84-84f7-0b3e6b1c53cc",
   "metadata": {},
   "outputs": [],
   "source": [
    "svm = SVC()\n",
    "svm.fit(X_train,y_train)\n",
    "y_pred_svm = svm.predict(X_test)"
   ]
  },
  {
   "cell_type": "markdown",
   "id": "cfb95253-8020-4b77-8f63-13e3d0a9aba5",
   "metadata": {},
   "source": [
    "#### Tworzę model XGBOOST"
   ]
  },
  {
   "cell_type": "code",
   "execution_count": 14,
   "id": "2e920272-1160-4487-b2a5-5e5e787bece6",
   "metadata": {},
   "outputs": [],
   "source": [
    "xgb = XGBClassifier()\n",
    "xgb.fit(X_train,y_train)\n",
    "y_pred_xgb = xgb.predict(X_test)"
   ]
  },
  {
   "cell_type": "markdown",
   "id": "b957fce0-a5f3-491e-993e-c081ce76eaa3",
   "metadata": {},
   "source": [
    "#### Tworzę model naiwnego klasyfikatora Bayesa"
   ]
  },
  {
   "cell_type": "code",
   "execution_count": 15,
   "id": "a86ced50-07e6-44bb-bc5d-862ad58d65d3",
   "metadata": {},
   "outputs": [],
   "source": [
    "bayes = GaussianNB()\n",
    "bayes.fit(X_train,y_train)\n",
    "y_pred_bayes = bayes.predict(X_test)"
   ]
  },
  {
   "cell_type": "markdown",
   "id": "9e13dcf1-a686-43cb-a4d0-36c8b9e8f68d",
   "metadata": {},
   "source": [
    "#### Sprawdzam metryki stworzonych modeli"
   ]
  },
  {
   "cell_type": "code",
   "execution_count": 16,
   "id": "78495495-124d-4ee4-8527-6068eddb750c",
   "metadata": {},
   "outputs": [
    {
     "data": {
      "text/html": [
       "<div>\n",
       "<style scoped>\n",
       "    .dataframe tbody tr th:only-of-type {\n",
       "        vertical-align: middle;\n",
       "    }\n",
       "\n",
       "    .dataframe tbody tr th {\n",
       "        vertical-align: top;\n",
       "    }\n",
       "\n",
       "    .dataframe thead th {\n",
       "        text-align: right;\n",
       "    }\n",
       "</style>\n",
       "<table border=\"1\" class=\"dataframe\">\n",
       "  <thead>\n",
       "    <tr style=\"text-align: right;\">\n",
       "      <th></th>\n",
       "      <th>Model</th>\n",
       "      <th>Accuracy</th>\n",
       "      <th>Recall</th>\n",
       "      <th>Specificity</th>\n",
       "    </tr>\n",
       "  </thead>\n",
       "  <tbody>\n",
       "    <tr>\n",
       "      <th>0</th>\n",
       "      <td>Decision Tree</td>\n",
       "      <td>1.000</td>\n",
       "      <td>1.000</td>\n",
       "      <td>1.0</td>\n",
       "    </tr>\n",
       "    <tr>\n",
       "      <th>1</th>\n",
       "      <td>Random Forest</td>\n",
       "      <td>0.998</td>\n",
       "      <td>0.938</td>\n",
       "      <td>1.0</td>\n",
       "    </tr>\n",
       "    <tr>\n",
       "      <th>2</th>\n",
       "      <td>SVM</td>\n",
       "      <td>0.976</td>\n",
       "      <td>0.000</td>\n",
       "      <td>1.0</td>\n",
       "    </tr>\n",
       "    <tr>\n",
       "      <th>3</th>\n",
       "      <td>XGB</td>\n",
       "      <td>0.998</td>\n",
       "      <td>0.938</td>\n",
       "      <td>1.0</td>\n",
       "    </tr>\n",
       "    <tr>\n",
       "      <th>4</th>\n",
       "      <td>Bayes</td>\n",
       "      <td>0.976</td>\n",
       "      <td>0.000</td>\n",
       "      <td>1.0</td>\n",
       "    </tr>\n",
       "  </tbody>\n",
       "</table>\n",
       "</div>"
      ],
      "text/plain": [
       "           Model  Accuracy  Recall  Specificity\n",
       "0  Decision Tree     1.000   1.000          1.0\n",
       "1  Random Forest     0.998   0.938          1.0\n",
       "2            SVM     0.976   0.000          1.0\n",
       "3            XGB     0.998   0.938          1.0\n",
       "4          Bayes     0.976   0.000          1.0"
      ]
     },
     "execution_count": 16,
     "metadata": {},
     "output_type": "execute_result"
    }
   ],
   "source": [
    "models = { \"Decision Tree\" : y_pred_tree,\n",
    "           \"Random Forest\" : y_pred_forest,\n",
    "           \"SVM\" : y_pred_svm,\n",
    "           \"XGB\" : y_pred_xgb,\n",
    "           \"Bayes\":y_pred_bayes,\n",
    "         }\n",
    "\n",
    "summary = {\"Model\":[],\"Accuracy\":[],\"Recall\":[],\"Specificity\":[]}\n",
    "for model in models:\n",
    "    summary[\"Model\"].append(model)\n",
    "    summary[\"Accuracy\"].append(round(accuracy_score(y_test,models[model]),3))\n",
    "    summary[\"Recall\"].append(round(recall_score(y_test,models[model]),3))\n",
    "    summary[\"Specificity\"].append(round(specificity_score(y_test,models[model]),3))\n",
    "results = pd.DataFrame(summary)\n",
    "results"
   ]
  },
  {
   "cell_type": "markdown",
   "id": "54a5db5b-a7de-44e8-a01c-a5d954f72a02",
   "metadata": {},
   "source": [
    "#### Tworzę macierze konfuzji dla każdego z modeli"
   ]
  },
  {
   "cell_type": "code",
   "execution_count": 17,
   "id": "14f50ca1-5373-4332-95bc-a4775feb7a66",
   "metadata": {},
   "outputs": [
    {
     "data": {
      "image/png": "[encoded data removed]",
      "text/plain": [
       "<Figure size 640x480 with 2 Axes>"
      ]
     },
     "metadata": {},
     "output_type": "display_data"
    },
    {
     "data": {
      "image/png": "[encoded data removed]",
      "text/plain": [
       "<Figure size 640x480 with 2 Axes>"
      ]
     },
     "metadata": {},
     "output_type": "display_data"
    },
    {
     "data": {
      "image/png": "[encoded data removed]",
      "text/plain": [
       "<Figure size 640x480 with 2 Axes>"
      ]
     },
     "metadata": {},
     "output_type": "display_data"
    },
    {
     "data": {
      "image/png": "[encoded data removed]",
      "text/plain": [
       "<Figure size 640x480 with 2 Axes>"
      ]
     },
     "metadata": {},
     "output_type": "display_data"
    },
    {
     "data": {
      "image/png": "[encoded data removed]",
      "text/plain": [
       "<Figure size 640x480 with 2 Axes>"
      ]
     },
     "metadata": {},
     "output_type": "display_data"
    }
   ],
   "source": [
    "for model in models:\n",
    "    cmatrix_display = ConfusionMatrixDisplay(confusion_matrix(y_test, models[model]))\n",
    "    cmatrix_display.plot(cmap = plt.cm.Blues)\n",
    "    plt.title(f\"Macierz konfuzji modelu {model}\")"
   ]
  },
  {
   "cell_type": "markdown",
   "id": "6e1c4669-b5d6-4c9b-ad74-b6e384f0ef6c",
   "metadata": {},
   "source": [
    "#### Jak więc widać model który sprawdził się najlepiej, a nawet perfekcyjnie to model drzewa decyzyjnego"
   ]
  },
  {
   "cell_type": "markdown",
   "id": "57e48b1e-5064-4bd0-8217-4843d7012463",
   "metadata": {},
   "source": [
    "#### Najgorzej spisały się zaś model maszyny wektorów nośnych oraz model naiwnego klasyfikatora Bayesa"
   ]
  }
 ],
 "metadata": {
  "kernelspec": {
   "display_name": "Python 3 (ipykernel)",
   "language": "python",
   "name": "python3"
  },
  "language_info": {
   "codemirror_mode": {
    "name": "ipython",
    "version": 3
   },
   "file_extension": ".py",
   "mimetype": "text/x-python",
   "name": "python",
   "nbconvert_exporter": "python",
   "pygments_lexer": "ipython3",
   "version": "3.13.0"
  }
 },
 "nbformat": 4,
 "nbformat_minor": 5
}
